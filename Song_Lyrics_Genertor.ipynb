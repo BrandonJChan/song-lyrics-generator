{
  "nbformat": 4,
  "nbformat_minor": 0,
  "metadata": {
    "colab": {
      "name": "Song Lyrics Genertor.ipynb",
      "provenance": []
    },
    "kernelspec": {
      "name": "python3",
      "display_name": "Python 3"
    }
  },
  "cells": [
    {
      "cell_type": "markdown",
      "metadata": {
        "id": "Dh5RQdw2pPAw",
        "colab_type": "text"
      },
      "source": [
        "#Song Lyrics Generator\n",
        "For this project, I want to generate lyrics using data science. I will generate lyrics by training a Markov Chain Model by feeding it lyrics so that I can generate a song in a style similar to the lyrics that I inputted."
      ]
    },
    {
      "cell_type": "markdown",
      "metadata": {
        "id": "Dyk6jfc1kau1",
        "colab_type": "text"
      },
      "source": [
        "#Step 1: Web Scraping Song Lyrics\n",
        "For fun and out of my own morbid curiosity, I'm going to be using the lyrics from my five least favorite Logic songs, Icy, clickbait, Bohemian Trapsody, Everyday, and Take It Back. I will be using the lyrics from these songs to recreate some equally horrible songs myself."
      ]
    },
    {
      "cell_type": "code",
      "metadata": {
        "id": "7i7B9nidOPFg",
        "colab_type": "code",
        "colab": {}
      },
      "source": [
        "import requests\n",
        "import time\n",
        "\n",
        "from bs4 import BeautifulSoup"
      ],
      "execution_count": 0,
      "outputs": []
    },
    {
      "cell_type": "code",
      "metadata": {
        "id": "tbiq7kkEOPFl",
        "colab_type": "code",
        "colab": {}
      },
      "source": [
        "website = 'https://www.metrolyrics.com/'\n",
        "end = '-lyrics-logic.html'\n",
        "lyrics = []"
      ],
      "execution_count": 0,
      "outputs": []
    },
    {
      "cell_type": "code",
      "metadata": {
        "id": "zep5raezZXNX",
        "colab_type": "code",
        "colab": {}
      },
      "source": [
        "def find_lyrics(song_name):\n",
        "  response = requests.get(website + song_name + end)\n",
        "  soup = BeautifulSoup(response.content, \"html.parser\")\n",
        "  ps = soup.find_all('p')\n",
        "  return ps"
      ],
      "execution_count": 0,
      "outputs": []
    },
    {
      "cell_type": "code",
      "metadata": {
        "id": "g6o8IsNKFMXR",
        "colab_type": "code",
        "colab": {}
      },
      "source": [
        "songs = ['icy', 'clickbait', 'bohemian-trapsody', 'everyday', 'take-it-back']\n",
        "pss = []\n",
        "for song in songs:\n",
        "  pss.append(find_lyrics(song))\n",
        "  time.sleep(0.5)"
      ],
      "execution_count": 0,
      "outputs": []
    },
    {
      "cell_type": "code",
      "metadata": {
        "id": "ALnIDH53VS8m",
        "colab_type": "code",
        "colab": {}
      },
      "source": [
        "icy_lyrics = ''\n",
        "for pnum in range(1, len(pss[0]) - 1):\n",
        "  if pnum == 5:\n",
        "    continue #ignore Gucci Mane guest verse\n",
        "  lyric_list = pss[0][pnum].text.split('\\n')[1:]\n",
        "  lyric_chunk = ' \\n '.join(lyric_list)\n",
        "  icy_lyrics += ' \\n ' + lyric_chunk\n",
        "lyrics.append(icy_lyrics[3:])"
      ],
      "execution_count": 0,
      "outputs": []
    },
    {
      "cell_type": "code",
      "metadata": {
        "id": "_c7UaeKkT23e",
        "colab_type": "code",
        "colab": {}
      },
      "source": [
        "clickbait_lyrics = ''\n",
        "for pnum in range(1, len(pss[1]) - 1):\n",
        "  lyric_list = pss[1][pnum].text.split('\\n')[1:]\n",
        "  lyric_chunk = ' \\n '.join(lyric_list)\n",
        "  clickbait_lyrics += ' \\n ' + lyric_chunk\n",
        "lyrics.append(clickbait_lyrics[3:])"
      ],
      "execution_count": 0,
      "outputs": []
    },
    {
      "cell_type": "code",
      "metadata": {
        "id": "vOUMojZXU_AP",
        "colab_type": "code",
        "colab": {}
      },
      "source": [
        "bohemian_lyrics = ''\n",
        "for pnum in range(1, len(pss[2]) - 1):\n",
        "  lyric_list = pss[2][pnum].text.split('\\n')\n",
        "  lyric_chunk = ' \\n '.join(lyric_list)\n",
        "  bohemian_lyrics += ' \\n ' + lyric_chunk\n",
        "lyrics.append(bohemian_lyrics[3:])"
      ],
      "execution_count": 0,
      "outputs": []
    },
    {
      "cell_type": "code",
      "metadata": {
        "id": "6SdfriHqWAhl",
        "colab_type": "code",
        "colab": {}
      },
      "source": [
        "everyday_lyrics = ''\n",
        "for pnum in range(1, len(pss[3]) - 1):\n",
        "  lyric_list = pss[3][pnum].text.split('\\n')[1:]\n",
        "  lyric_chunk = ' \\n '.join(lyric_list)\n",
        "  everyday_lyrics += ' \\n ' + lyric_chunk\n",
        "lyrics.append(everyday_lyrics[3:])"
      ],
      "execution_count": 0,
      "outputs": []
    },
    {
      "cell_type": "code",
      "metadata": {
        "id": "Oa1j7mOYXcu5",
        "colab_type": "code",
        "colab": {}
      },
      "source": [
        "tib_lyrics = ''\n",
        "for pnum in range(2, len(pss[4]) - 1):\n",
        "  lyric_list = pss[4][pnum].text.split('\\n')\n",
        "  lyric_chunk = ' \\n '.join(lyric_list)\n",
        "  tib_lyrics += ' \\n ' + lyric_chunk\n",
        "lyrics.append(tib_lyrics[3:])"
      ],
      "execution_count": 0,
      "outputs": []
    },
    {
      "cell_type": "code",
      "metadata": {
        "id": "qvRlrVnKOPFp",
        "colab_type": "code",
        "outputId": "5cc33e26-85d7-49fc-cc7a-e141af1316f9",
        "colab": {
          "base_uri": "https://localhost:8080/",
          "height": 1000
        }
      },
      "source": [
        "#The lyrics to Icy\n",
        "print(lyrics[0])"
      ],
      "execution_count": 10,
      "outputs": [
        {
          "output_type": "stream",
          "text": [
            "I'm icy, I'm clean \n",
            " I'm icy \n",
            " I'm icy (I'm icy, I'm clean) \n",
            " I'm clean (I'm icy, I'm clean) \n",
            " I'm a bad motherfucker (I'm icy, I'm clean) \n",
            " I'm mean (I'm icy) \n",
            " I'm icy (I'm icy, I'm clean) \n",
            " I'm clean (I'm icy, I'm clean) \n",
            " I'm a bad motherfucker (I'm icy, I'm clean) \n",
            " I'm mean (I'm icy, I'm clean) \n",
            " I had a plot as a kid to get rich \n",
            " Hah, listen, lil' bitch \n",
            " Got the game in my hand like a Switch \n",
            " It's just me and my clique \n",
            " Rap and get money, rap and get money \n",
            " Said rap and get money, motherfucker \n",
            " Ain't this shit funny? \n",
            " Don't do it for money, don't do it for money \n",
            " But if it come down to the money \n",
            " I got a lot \n",
            " I got a lot, like a lot \n",
            " More than I need \n",
            " I got children to feed, I got places to be \n",
            " I got bitches to fuck, let me see your ID \n",
            " Nah, I'm just playin', I'm playin' \n",
            " You know that I'm playin', don't know what I'm sayin', no \n",
            " Know that we chillin', we vibin' \n",
            " We smokin' and drinkin', we gettin' this money though \n",
            " Follow me, follow me, follow me \n",
            " All the way, all the way into my paradise \n",
            " I'm so cold, I think I'm made of ice \n",
            " I'm icy (I'm icy, I'm clean) \n",
            " I'm clean (I'm icy, I'm clean) \n",
            " I'm a bad motherfucker (I'm icy, I'm clean) \n",
            " I'm mean (I'm icy) \n",
            " I'm icy (I'm icy, I'm clean) \n",
            " I'm clean (I'm icy, I'm clean, it's Gucci) \n",
            " I'm a bad motherfucker (I'm icy, I'm clean) \n",
            " I'm mean (I'm icy, I'm clean) \n",
            " I'm icy (I'm icy, I'm clean) \n",
            " I'm clean (I'm icy, I'm clean) \n",
            " I'm a bad motherfucker (I'm icy, I'm clean) \n",
            " I'm mean (I'm icy) \n",
            " I'm icy (I'm icy, I'm clean) \n",
            " I'm clean (I'm icy, I'm clean) \n",
            " I'm a bad motherfucker (I'm icy, I'm clean) \n",
            " I'm mean (I'm icy, I'm clean) \n",
            " I'm icy, I'm icy, I'm so cold, I'm chilly \n",
            " You know I got the C-notes like I'm Eilish, I'm Billie \n",
            " That boy Logic flow so cold, loco, crazy, silly \n",
            " You ever gon' stop rappin'? \n",
            " I'm thinkin' no, no, not really, ayy \n",
            " I be quick to put an ugly bitch in her place \n",
            " 'Cause a beautiful woman is something to see \n",
            " And she's not defined by her face \n",
            " Can't fuck with no girl who be all on the 'Gram \n",
            " Tryna post while I'm eatin' spaghetti \n",
            " Damn, girl, can't you be normal? \n",
            " I'm famous as fuck, yeah, we get it already \n",
            " But who give a shit about that \n",
            " I am a good man, how 'bout that? \n",
            " No way in hell I'm defined by the stat \n",
            " Smokin' that pack, let me get it back \n",
            " Let me get up in it, let me hit it like that \n",
            " If you wanna come and get it with the RattPack \n",
            " Like ayy, I'ma be here forever and a day \n",
            " I be at the Grammy party with Jay and Bey \n",
            " Oh shit, yeah, that's me \n",
            " Sellin' out NYC \n",
            " That shit I can't believe \n",
            " I'm icy (I'm icy, I'm clean) \n",
            " I'm clean (I'm icy, I'm clean) \n",
            " I'm a bad motherfucker (I'm icy, I'm clean) \n",
            " I'm mean (I'm icy) \n",
            " I'm icy (I'm icy, I'm clean) \n",
            " I'm clean (I'm icy, I'm clean) \n",
            " I'm a bad motherfucker (I'm icy, I'm clean) \n",
            " I'm mean\n"
          ],
          "name": "stdout"
        }
      ]
    },
    {
      "cell_type": "markdown",
      "metadata": {
        "id": "G0lIsafGlv84",
        "colab_type": "text"
      },
      "source": [
        "#Step 2: The Bigram Markov Chain Model\n",
        "In a dictionary, I am storing every pair of consecutive words (every birgram) as a tuple in all of the five songs and mapping each pair to the list of \"next\" words.\n",
        "\n",
        "For example, for the line `\"I'm Icy, I'm Clean\"`\n",
        "\n",
        "The pair of words `(\"I'm\", \"Icy\")` is mapped to the word following the pair,`[\"I'm\"]`. Likewise, the pair of words `(\"Icy, \"I'm\")` is mapped to `[\"Clean\"]`.\n",
        "\n",
        "Besides words, I am also storing starting points (`\"<START>\"`), ending points (`\"<END>\"`), and line breaks (`\"<N>\"`) to capture how songs and lines tend to start and end."
      ]
    },
    {
      "cell_type": "code",
      "metadata": {
        "id": "sQQf5qfLOPGF",
        "colab_type": "code",
        "colab": {}
      },
      "source": [
        "import re\n",
        "def train_markov_chain(lyrics):\n",
        "    \"\"\"\n",
        "    Args:\n",
        "      - lyrics: a list of strings, where each string represents\n",
        "                the lyrics of one song by an artist.\n",
        "    \n",
        "    Returns:\n",
        "      A dictionary that maps a tuple of 2 words (\"bigram\") to a list of\n",
        "      words that follow that bigram, representing the Markov\n",
        "      chain trained on the lyrics.\n",
        "    \"\"\"\n",
        "    chain = {(None, \"<START>\"): []}\n",
        "    for lyric in lyrics:\n",
        "        words = re.sub('\\n', '<N>', re.sub(r'[^\\w\\s]', '', lyric)).split(' ')\n",
        "        #normalize text lyrics by getting rid of puncuation\n",
        "\n",
        "        chain[(None, \"<START>\")].append(words[0])\n",
        "        chain[(\"<START>\", words[0])] = [words[1]]\n",
        "\n",
        "        for i in range(len(words) - 2):\n",
        "          word = words[i]\n",
        "          nextword = words[i + 1]\n",
        "          nextnext = words[i + 2]\n",
        "          if (word, nextword) not in chain:\n",
        "            chain[(word, nextword)] = []\n",
        "          if (nextword, nextnext) not in chain:\n",
        "            chain[(nextword, nextnext)] = []\n",
        "          chain[(word, nextword)].append(nextnext)\n",
        "\n",
        "        chain[(words[len(words) - 2], words[len(words) - 1])].append('<END>')\n",
        "\n",
        "    return chain"
      ],
      "execution_count": 0,
      "outputs": []
    },
    {
      "cell_type": "markdown",
      "metadata": {
        "id": "VhHrP1jom-a4",
        "colab_type": "text"
      },
      "source": [
        "We can take a peek into our model by seeing how songs tend to start."
      ]
    },
    {
      "cell_type": "code",
      "metadata": {
        "id": "OpPtRfOxOPGI",
        "colab_type": "code",
        "outputId": "ec4cde52-493a-4553-a606-257be748b902",
        "colab": {
          "base_uri": "https://localhost:8080/",
          "height": 34
        }
      },
      "source": [
        "chain = train_markov_chain(lyrics)\n",
        "\n",
        "print(chain[(None, \"<START>\")])"
      ],
      "execution_count": 12,
      "outputs": [
        {
          "output_type": "stream",
          "text": [
            "['Im', 'You', 'Every', 'Yeah', 'Take']\n"
          ],
          "name": "stdout"
        }
      ]
    },
    {
      "cell_type": "markdown",
      "metadata": {
        "id": "98memlFCnRuj",
        "colab_type": "text"
      },
      "source": [
        "#Step 3: Generate Lyrics!\n",
        "I will be randomly generating lyrics using the Bigram Markov Chain I created above. I will begin at the `(None, \"<START>\")` bigram and I will randomly choose a word from the corresponding list of words to be the first word in the song. At each step, I will randomly sample the next word from the list of words that follow the current bigram (i.e. the last two randomly generated words). I will continue to randomly generate lyrics until I sample `\"<END>\"`. And this should give us a complete song!"
      ]
    },
    {
      "cell_type": "code",
      "metadata": {
        "id": "fmtEgsDoOPGM",
        "colab_type": "code",
        "colab": {}
      },
      "source": [
        "import random\n",
        "\n",
        "def generate_new_lyrics(chain):\n",
        "    \"\"\"\n",
        "    Args:\n",
        "      - chain: a dict representing the Markov chain,\n",
        "               such as one generated by generate_new_lyrics()\n",
        "    \n",
        "    Returns:\n",
        "      A string representing the randomly generated song.\n",
        "    \"\"\" \n",
        "    # a list for storing the generated words\n",
        "    words = []\n",
        "    # generate the first word\n",
        "    words.append(random.choice(chain[(None, \"<START>\")]))\n",
        "    prev = words[0]\n",
        "    current = random.choice(chain[('<START>', prev)])\n",
        "    \n",
        "    while current != '<END>':\n",
        "      words.append(current)\n",
        "      new = random.choice(chain[(prev, current)])\n",
        "      prev = current\n",
        "      current = new\n",
        "    \n",
        "    # join the words together into a string with line breaks\n",
        "    lyrics = \" \".join(words[:-1])\n",
        "    return \"\\n\".join(lyrics.split(\"<N>\"))"
      ],
      "execution_count": 0,
      "outputs": []
    },
    {
      "cell_type": "code",
      "metadata": {
        "id": "WTz0zLIRrtrf",
        "colab_type": "code",
        "colab": {
          "base_uri": "https://localhost:8080/",
          "height": 1000
        },
        "outputId": "66e9b078-08d4-47fa-a339-cc520074497c"
      },
      "source": [
        "print(generate_new_lyrics(chain))"
      ],
      "execution_count": 15,
      "outputs": [
        {
          "output_type": "stream",
          "text": [
            "You are amazing you are amazing you are amazing you are amazing you are amazing you are amazing you are amazing you are \n",
            " You are amazing you are amazing you are amazing you are forgettable you are forgettable you are amazing you are amazing you are for \n",
            " Elevated feelin elevated took a hit of weed and shit escalated \n",
            " Feeling innovative Ima integrate it yeah thats how Ima buck back \n",
            " Take it back \n",
            " Take it way back to about 1990 \n",
            " Shady Grove Hospital in Rockville Maryland \n",
            " 7 36 am where a biracial baby was born equal \n",
            " We didnt live with you we didnt live with you \n",
            " Promise that Id risk it all for you \n",
            " Promise that Id risk it all for you \n",
            " Promise to reveal my all for you \n",
            " And when I break down my wall for you \n",
            " Thats when Ill break down my wall for you \n",
            " Thats the shit that happened to this kid \n",
            " And when I break down my wall for you \n",
            " Promise to reveal my all for you \n",
            " Promise to reveal my all for you \n",
            " Oh na na \n",
            " Nananana Hey \n",
            " Oh no no I cant believe \n",
            " As long as theyre not hurtin anybody \n",
            " You ever gon stop rappin \n",
            " Im mean Im icy Im clean \n",
            " Im icy Im clean \n",
            " Im a bad motherfucker Im icy \n",
            " Im mean Im icy Im clean Im icy \n",
            " Im famous as fuck yeah we get it back take it way back \n",
            " Take it back take it way back \n",
            " Let that young man persevered in spite \n",
            " Of what people told him he was kidnapped \n",
            " There was crazy shit that happened to this kid \n",
            " And he was stripped and he was kidnapped \n",
            " There was crazy shit that happened to this kid \n",
            " And fighting and stealing and and all this \n",
            " Because he didnt know he didnt know he didnt know he didnt know \n",
            " I be at the club wants to fuck let me see your ID \n",
            " Nah Im just playin Im playin \n",
            " You make a living off of controversy and you know it \n",
            " Now imagine this child growing up \n",
            " Break it down and we roll up sho nough \n",
            " Break it down for me \n",
            " All this young boy ever wanted to do \n",
            " Was spread a message of equality \n",
            " For days and days \n",
            " But will have to get the gat yeah thats the shit that happened to this kid \n",
            " And no matter what they say its my day \n",
            " And this boy went through \n",
            " He said equality for all man \n",
            " Could paint the black man \n",
            " Long ago before the white man \n",
            " At the very moment when they looked around and said \n",
            " Fuck it Ima steal this land \n",
            " Take it way way back \n",
            " Tell me why my momma gotta lie to me \n",
            " All she ever wanted was happiness \n",
            " All these black babies with black men but you racist \n",
            " Like bitch that dont make no sense but it is what it is what it is \n",
            " You can believe youre superior fine \n",
            " Just stop killing each\n"
          ],
          "name": "stdout"
        }
      ]
    },
    {
      "cell_type": "markdown",
      "metadata": {
        "id": "sAP-8IXQsJoD",
        "colab_type": "text"
      },
      "source": [
        "#Conclusion\n",
        "It's a success! This song sucks! The generated song is a beautiful mess of the combined lyrics of the five inputted songs. Could not be happier to have birthed something so atrocius."
      ]
    }
  ]
}